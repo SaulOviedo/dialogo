{
 "cells": [
  {
   "cell_type": "code",
   "execution_count": null,
   "id": "898b3e86",
   "metadata": {},
   "outputs": [],
   "source": [
    "from config import BEARER_TOKEN\n",
    "from TwitterAPI import TwitterAPI\n",
    "import pandas as pd\n",
    "from config import *\n",
    "\n",
    "pd.set_option('display.max_rows', 100)"
   ]
  },
  {
   "cell_type": "code",
   "execution_count": null,
   "id": "f7b431a7",
   "metadata": {},
   "outputs": [],
   "source": [
    "twitter = TwitterAPI(BEARER_TOKEN=BEARER_TOKEN)"
   ]
  },
  {
   "cell_type": "code",
   "execution_count": null,
   "id": "574c5566",
   "metadata": {},
   "outputs": [],
   "source": [
    "def translate(data):\n",
    "    data['followers'] = data['public_metrics']['followers_count']\n",
    "    data['following'] = data['public_metrics']['following_count']\n",
    "    data['following_ids'] = None\n",
    "    data.pop('public_metrics')\n",
    "    return data"
   ]
  },
  {
   "cell_type": "code",
   "execution_count": null,
   "id": "eb339f1a",
   "metadata": {},
   "outputs": [],
   "source": [
    "def next_level(df, last_level=False):\n",
    "    df = df.copy()\n",
    "    \n",
    "    i=0\n",
    "    for idx in df[df.following_ids.isnull()].index:\n",
    "        res = twitter.get_user_following(idx)\n",
    "        \n",
    "        data = []\n",
    "        ids = []\n",
    "        for r in res:\n",
    "            data.append( translate(r) )\n",
    "            ids.append( str(r['id']) )\n",
    "        \n",
    "        df.loc[idx, 'following_ids'] = ','.join(ids)\n",
    "        \n",
    "        if not last_level:\n",
    "            new_df = pd.DataFrame.from_dict(data).set_index('id')\n",
    "            new_ids = set(new_df.index) - set(df.index)\n",
    "            df = df.append(new_df.loc[new_ids])\n",
    "        \n",
    "        if i % 5 == 0:\n",
    "            df.to_csv('./dataset/checkpoint.csv')\n",
    "        \n",
    "        i += 1\n",
    "    \n",
    "    return df"
   ]
  },
  {
   "cell_type": "code",
   "execution_count": null,
   "id": "a7828fc2",
   "metadata": {},
   "outputs": [],
   "source": [
    "starting_nodes = [\n",
    "    1252764865, # Nicolas Maduro\n",
    "    128262354, # Diosdado Cabello\n",
    "    1644228493, # Delcy Rodriguez\n",
    "    14119371, # Julio Borges\n",
    "    47491330, # Henrique Capriles\n",
    "    102482331, # Maria Corina Machado\n",
    "]"
   ]
  },
  {
   "cell_type": "code",
   "execution_count": null,
   "id": "a2bf60a7",
   "metadata": {},
   "outputs": [],
   "source": [
    "df = pd.DataFrame.from_dict([ translate(twitter.get_user(n)['data']) for n in starting_nodes]).set_index('id')\n",
    "df"
   ]
  },
  {
   "cell_type": "code",
   "execution_count": null,
   "id": "86d4b62c",
   "metadata": {},
   "outputs": [],
   "source": [
    "df = next_level(df)\n",
    "df.to_csv('./dataset/first_level.csv')\n",
    "\n",
    "lower_cutoff = df[df.followers < 1e6].followers.quantile(0.90) # Tomaremos el 15% con mas seguidores\n",
    "upper_cutoff = 7200000 # No tomaremos los mayores a Capriles, no hay nada interesante\n",
    "\n",
    "df = df[(df.followers > lower_cutoff) & (df.followers < upper_cutoff)]\n",
    "last_df = next_level(df, last_level=True)\n",
    "\n",
    "last_df.to_csv('./dataset/last_checkpoint.csv')"
   ]
  },
  {
   "cell_type": "code",
   "execution_count": null,
   "id": "eda1575f",
   "metadata": {},
   "outputs": [],
   "source": [
    "# Continuamos la lista en el ultimo checkpoint\n",
    "df = pd.read_csv('./dataset/checkpoint_clean.csv', index_col='id')\n",
    "last_df = next_level(df, last_level=True)\n",
    "last_df.to_csv('./dataset/last_checkpoint.csv')"
   ]
  },
  {
   "cell_type": "code",
   "execution_count": null,
   "id": "65d36390",
   "metadata": {},
   "outputs": [],
   "source": []
  }
 ],
 "metadata": {
  "kernelspec": {
   "display_name": "Python 3 (ipykernel)",
   "language": "python",
   "name": "python3"
  },
  "language_info": {
   "codemirror_mode": {
    "name": "ipython",
    "version": 3
   },
   "file_extension": ".py",
   "mimetype": "text/x-python",
   "name": "python",
   "nbconvert_exporter": "python",
   "pygments_lexer": "ipython3",
   "version": "3.8.5"
  }
 },
 "nbformat": 4,
 "nbformat_minor": 5
}
